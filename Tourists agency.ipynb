{
 "cells": [
  {
   "cell_type": "markdown",
   "metadata": {},
   "source": [
    "#### Problem description:  \n",
    "Let's say we are tourists agancy and we would like to organize a trip to eight wholly different cities over 100K citiziens in USA.\n",
    "Difference is defined based on dissimilarities in numbers of any kind of people's ventures in uptown part of cities.\n",
    "People don't want to feel like: 'I've seen it before' and want to give a chance to smaller cities thanks to randome proceses. It's a 'unnetflix' way. 'I don't want to watch similar movies, I'm fed up, I want to try something new' people thinking like that are main target of the agency. \n",
    "\n",
    "#### Data to be used:  \n",
    "Wikipedia data to get all the cities in USA that have population over 100K citizens, along with coordinates\n",
    "https://en.wikipedia.org/wiki/List_of_United_States_cities_by_population\n",
    "Foursquare data to gather information about all the venues in radius 5000 meteres around the city center.\n",
    "Data will be split into eight clusters, and based on that 100 combinations(possible different trips) will be provided to the CEO of agency."
   ]
  },
  {
   "cell_type": "code",
   "execution_count": null,
   "metadata": {
    "collapsed": true
   },
   "outputs": [],
   "source": []
  }
 ],
 "metadata": {
  "kernelspec": {
   "display_name": "Python 3",
   "language": "python",
   "name": "python3"
  },
  "language_info": {
   "codemirror_mode": {
    "name": "ipython",
    "version": 3
   },
   "file_extension": ".py",
   "mimetype": "text/x-python",
   "name": "python",
   "nbconvert_exporter": "python",
   "pygments_lexer": "ipython3",
   "version": "3.6.1"
  }
 },
 "nbformat": 4,
 "nbformat_minor": 2
}
